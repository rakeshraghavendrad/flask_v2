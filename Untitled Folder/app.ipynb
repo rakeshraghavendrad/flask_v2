{
 "cells": [
  {
   "cell_type": "code",
   "execution_count": 15,
   "id": "1d586354",
   "metadata": {},
   "outputs": [
    {
     "name": "stdout",
     "output_type": "stream",
     "text": [
      " * Serving Flask app \"__main__\" (lazy loading)\n",
      " * Environment: production\n",
      "\u001b[31m   WARNING: This is a development server. Do not use it in a production deployment.\u001b[0m\n",
      "\u001b[2m   Use a production WSGI server instead.\u001b[0m\n",
      " * Debug mode: off\n"
     ]
    },
    {
     "name": "stderr",
     "output_type": "stream",
     "text": [
      " * Running on http://127.0.0.1:5000/ (Press CTRL+C to quit)\n",
      "127.0.0.1 - - [15/Feb/2023 15:14:41] \"GET / HTTP/1.1\" 200 -\n",
      "127.0.0.1 - - [15/Feb/2023 15:14:48] \"POST / HTTP/1.1\" 200 -\n"
     ]
    }
   ],
   "source": [
    "from flask import Flask, request, render_template\n",
    "import pandas as pd\n",
    "import joblib\n",
    "\n",
    "\n",
    "# Declare a Flask app\n",
    "app = Flask(__name__)\n",
    "\n",
    "# Main function here\n",
    "@app.route('/', methods=['GET', 'POST'])\n",
    "def main():\n",
    "    \n",
    "    # If a form is submitted\n",
    "    if request.method == \"POST\":\n",
    "        \n",
    "        # Unpickle classifier\n",
    "        clf = joblib.load(\"clf.pkl\")\n",
    "        \n",
    "        # Get values through input bars\n",
    "        height = request.form.get(\"height\")\n",
    "        weight = request.form.get(\"weight\")\n",
    "        \n",
    "        # Put inputs to dataframe\n",
    "        X = pd.DataFrame([[height, weight]], columns = [\"Height\", \"Weight\"])\n",
    "        \n",
    "        # Get prediction\n",
    "        prediction = clf.predict(X)[0]\n",
    "        \n",
    "    else:\n",
    "        prediction = \"\"\n",
    "        \n",
    "    return render_template(\"website.html\", output = prediction)\n",
    "\n",
    "# Running the app\n",
    "if __name__ == '__main__':\n",
    "    app.run(debug = False)"
   ]
  },
  {
   "cell_type": "code",
   "execution_count": null,
   "id": "74dd2959",
   "metadata": {},
   "outputs": [],
   "source": []
  }
 ],
 "metadata": {
  "kernelspec": {
   "display_name": "Python 3 (ipykernel)",
   "language": "python",
   "name": "python3"
  },
  "language_info": {
   "codemirror_mode": {
    "name": "ipython",
    "version": 3
   },
   "file_extension": ".py",
   "mimetype": "text/x-python",
   "name": "python",
   "nbconvert_exporter": "python",
   "pygments_lexer": "ipython3",
   "version": "3.9.7"
  }
 },
 "nbformat": 4,
 "nbformat_minor": 5
}
